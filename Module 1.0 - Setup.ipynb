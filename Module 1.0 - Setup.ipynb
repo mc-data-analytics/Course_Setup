{
 "cells": [
  {
   "cell_type": "markdown",
   "metadata": {},
   "source": [
    "# Module 1.0: Setup for Intro Data Analytics\n",
    "\n",
    "This notebook will download a copy of all the course material used for the Introductory Data Analytics bootcamp. "
   ]
  },
  {
   "cell_type": "code",
   "execution_count": null,
   "metadata": {},
   "outputs": [],
   "source": [
    "#create a clone copy of the course material hosted on this Github repository\n",
    "#it will download directly to computer\n",
    "!git clone https://github.com/mc-data-analytics/Intro_DataAnalytics"
   ]
  },
  {
   "cell_type": "code",
   "execution_count": null,
   "metadata": {},
   "outputs": [],
   "source": [
    "import zipfile\n",
    "\n",
    "# Unzip datasets zip file to course material folder\n",
    "zip_ref = zipfile.ZipFile('Intro_DataAnalytics/datasets.zip', 'r')\n",
    "zip_ref.extractall('Intro_DataAnalytics/')\n",
    "zip_ref.close()"
   ]
  }
 ],
 "metadata": {
  "kernelspec": {
   "display_name": "Python 3",
   "language": "python",
   "name": "python3"
  },
  "language_info": {
   "codemirror_mode": {
    "name": "ipython",
    "version": 3
   },
   "file_extension": ".py",
   "mimetype": "text/x-python",
   "name": "python",
   "nbconvert_exporter": "python",
   "pygments_lexer": "ipython3",
   "version": "3.7.3"
  }
 },
 "nbformat": 4,
 "nbformat_minor": 4
}
